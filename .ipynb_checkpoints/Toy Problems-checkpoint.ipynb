{
 "cells": [
  {
   "cell_type": "code",
   "execution_count": 67,
   "metadata": {},
   "outputs": [],
   "source": [
    "#QUESTION1\n",
    "# Questions from geek for geeks\n",
    "# Given a string, reverse the string without reversing its individual words. words are separated by dots\n",
    "\n",
    "def reverseWords(string):\n",
    "    new = string.split('.')\n",
    "    n = len(new)-1\n",
    "\n",
    "    a = [new[i] for i in range(n, -1, -1)]\n",
    "    s = '.'.join(a)\n",
    "    return s\n",
    "    "
   ]
  },
  {
   "cell_type": "code",
   "execution_count": 68,
   "metadata": {},
   "outputs": [
    {
     "data": {
      "text/plain": [
       "'much.very.program.this.like.i'"
      ]
     },
     "execution_count": 68,
     "metadata": {},
     "output_type": "execute_result"
    }
   ],
   "source": [
    "string = 'i.like.this.program.very.much'\n",
    "reverseWords(string)\n"
   ]
  },
  {
   "cell_type": "code",
   "execution_count": 69,
   "metadata": {},
   "outputs": [
    {
     "data": {
      "text/plain": [
       "'mno.pqr'"
      ]
     },
     "execution_count": 69,
     "metadata": {},
     "output_type": "execute_result"
    }
   ],
   "source": [
    "string = 'pqr.mno'\n",
    "reverseWords(string)"
   ]
  },
  {
   "cell_type": "code",
   "execution_count": 70,
   "metadata": {},
   "outputs": [
    {
     "data": {
      "text/plain": [
       "''"
      ]
     },
     "execution_count": 70,
     "metadata": {},
     "output_type": "execute_result"
    }
   ],
   "source": [
    "string = ''\n",
    "reverseWords(string)"
   ]
  },
  {
   "cell_type": "markdown",
   "metadata": {},
   "source": []
  },
  {
   "cell_type": "code",
   "execution_count": 90,
   "metadata": {},
   "outputs": [],
   "source": [
    "# QUESTION 2\n",
    "# Given two rectangles, find if the given two rectangles overlap or not. Av rectangle is denoted by providing the \n",
    "# x and y coordinates of the top left corner and bottom right corner\n",
    "\n",
    "def overlapping(s,t):\n",
    "    if s[3] > t[1] or s[0] > t[2] or t[3] > s[1] or t[0] > s[2]:\n",
    "        return 0 \n",
    "    return 1"
   ]
  },
  {
   "cell_type": "code",
   "execution_count": 91,
   "metadata": {},
   "outputs": [
    {
     "data": {
      "text/plain": [
       "1"
      ]
     },
     "execution_count": 91,
     "metadata": {},
     "output_type": "execute_result"
    }
   ],
   "source": [
    "# Test case\n",
    "a = [0,10,10,0]\n",
    "b = [5,5,15,0]\n",
    "overlapping(a,b)\n"
   ]
  },
  {
   "cell_type": "code",
   "execution_count": 92,
   "metadata": {},
   "outputs": [
    {
     "data": {
      "text/plain": [
       "0"
      ]
     },
     "execution_count": 92,
     "metadata": {},
     "output_type": "execute_result"
    }
   ],
   "source": [
    "# Test case\n",
    "a = [0,2,1,1]\n",
    "b = [-2,-3,0,2]\n",
    "overlapping(a,b)"
   ]
  },
  {
   "cell_type": "markdown",
   "metadata": {},
   "source": []
  },
  {
   "cell_type": "code",
   "execution_count": 63,
   "metadata": {},
   "outputs": [],
   "source": []
  },
  {
   "cell_type": "code",
   "execution_count": 93,
   "metadata": {},
   "outputs": [],
   "source": [
    "# Question 3\n",
    "# Given a positive integer, return its corresponding column title as appear in an Excel spreadsheet\n",
    "def colname(n):\n",
    "    res = ''\n",
    "    while n > 0:\n",
    "        rem = chr(ord('A') + (n-1) % 26)\n",
    "        n= (n-1)//26\n",
    "        res = rem + res\n",
    "    return res"
   ]
  },
  {
   "cell_type": "code",
   "execution_count": 94,
   "metadata": {},
   "outputs": [
    {
     "data": {
      "text/plain": [
       "'A'"
      ]
     },
     "execution_count": 94,
     "metadata": {},
     "output_type": "execute_result"
    }
   ],
   "source": [
    "colname(1)"
   ]
  },
  {
   "cell_type": "markdown",
   "metadata": {},
   "source": [
    "\n"
   ]
  },
  {
   "cell_type": "code",
   "execution_count": 95,
   "metadata": {},
   "outputs": [
    {
     "data": {
      "text/plain": [
       "'AYS'"
      ]
     },
     "execution_count": 95,
     "metadata": {},
     "output_type": "execute_result"
    }
   ],
   "source": [
    "colname(1345)"
   ]
  },
  {
   "cell_type": "code",
   "execution_count": null,
   "metadata": {},
   "outputs": [],
   "source": []
  },
  {
   "cell_type": "code",
   "execution_count": 96,
   "metadata": {},
   "outputs": [],
   "source": [
    "# Question 4\n",
    "# Given a string S consisting of lowercase Latin letters. Find the first non-repeating\n",
    "# character in S\n",
    "\n",
    "def nonrepeatingCharacter(s):\n",
    "    dictionary = {}\n",
    "    for i in s:\n",
    "        if i in dictionary:\n",
    "            dictionary[i]+=1\n",
    "        else:\n",
    "            dictionary[i] = 1\n",
    "    for i in dictionary:\n",
    "        if dictionary[i] == 1:\n",
    "            return i\n",
    "    if 1 not in dictionary.values():\n",
    "        return '$'\n"
   ]
  },
  {
   "cell_type": "code",
   "execution_count": 97,
   "metadata": {},
   "outputs": [
    {
     "data": {
      "text/plain": [
       "'c'"
      ]
     },
     "execution_count": 97,
     "metadata": {},
     "output_type": "execute_result"
    }
   ],
   "source": [
    "#Test case\n",
    "S = 'zxvczbtxyzvy'\n",
    "nonrepeatingCharacter(S)"
   ]
  },
  {
   "cell_type": "code",
   "execution_count": 98,
   "metadata": {},
   "outputs": [
    {
     "data": {
      "text/plain": [
       "'m'"
      ]
     },
     "execution_count": 98,
     "metadata": {},
     "output_type": "execute_result"
    }
   ],
   "source": [
    "S = 'hqghumeaylnlfdxfircvscxggbwkfnqduxwfnfozvs'\n",
    "nonrepeatingCharacter(S)"
   ]
  },
  {
   "cell_type": "markdown",
   "metadata": {},
   "source": []
  },
  {
   "cell_type": "code",
   "execution_count": 88,
   "metadata": {},
   "outputs": [],
   "source": [
    "# Question 5\n",
    "# A top secret message containng letters from A-Z is beingn encoded using the following mapping\n",
    "#A -> 1 ... Z -> 26\n",
    "# As an FBI agent detemine the number of ways to encode the message\n",
    "def totalDecodeMessage(code):\n",
    "    dp = [0 for i in range(len(code)+1)]\n",
    "    dp[0] = 1\n",
    "    if code[0] == '0':\n",
    "        return 0\n",
    "    else:\n",
    "        dp[1] = 1\n",
    "    \n",
    "    for i in range(2, len(dp)):\n",
    "        if code[i-1] == '0':\n",
    "            if code[i-2] == '1' or code[i-2] == '2':\n",
    "                dp[i] = dp[i-2]\n",
    "            else:\n",
    "                return 0\n",
    "        else:\n",
    "            if code[i-2] == '1' or (code[i-2] == '2' and code[i-1] < '7'):\n",
    "                dp[i] = dp[i-1] + dp[i-2]\n",
    "            else:\n",
    "                dp[i] = dp[i-1]\n",
    "    return dp[-1]\n"
   ]
  },
  {
   "cell_type": "code",
   "execution_count": 99,
   "metadata": {},
   "outputs": [
    {
     "data": {
      "text/plain": [
       "2"
      ]
     },
     "execution_count": 99,
     "metadata": {},
     "output_type": "execute_result"
    }
   ],
   "source": [
    "code = '2563'\n",
    "totalDecodeMessage(code)"
   ]
  },
  {
   "cell_type": "code",
   "execution_count": 100,
   "metadata": {},
   "outputs": [
    {
     "data": {
      "text/plain": [
       "5"
      ]
     },
     "execution_count": 100,
     "metadata": {},
     "output_type": "execute_result"
    }
   ],
   "source": [
    "code = '2121'\n",
    "totalDecodeMessage(code)"
   ]
  },
  {
   "cell_type": "code",
   "execution_count": 114,
   "metadata": {},
   "outputs": [],
   "source": [
    "# This is a google question thatinvolves adding one to a number in an array and getting the result\n",
    "def Plusone(arr):\n",
    "    #new_arr = []\n",
    "    for i in range(len(arr)-1, -1,-1):\n",
    "        if arr[i] < 9:\n",
    "            arr[i] = arr[i] + 1\n",
    "            return arr\n",
    "        \n",
    "        else:\n",
    "            arr[i] = 0\n",
    "        \n",
    "    arr.insert(0,1)\n",
    "    return arr"
   ]
  },
  {
   "cell_type": "code",
   "execution_count": 115,
   "metadata": {},
   "outputs": [
    {
     "data": {
      "text/plain": [
       "[1, 5, 0]"
      ]
     },
     "execution_count": 115,
     "metadata": {},
     "output_type": "execute_result"
    }
   ],
   "source": [
    "arr = [1,4,9]\n",
    "Plusone(arr)"
   ]
  },
  {
   "cell_type": "code",
   "execution_count": 116,
   "metadata": {},
   "outputs": [
    {
     "data": {
      "text/plain": [
       "4"
      ]
     },
     "execution_count": 116,
     "metadata": {},
     "output_type": "execute_result"
    }
   ],
   "source": [
    "a = [2,3,4,5]\n",
    "a[-2]"
   ]
  },
  {
   "cell_type": "code",
   "execution_count": 137,
   "metadata": {},
   "outputs": [],
   "source": [
    "# Rob houses problem on leetcode\n",
    "def rob(arr):\n",
    "    dp = [0] * len(arr)\n",
    "    dp[0] = arr[0]\n",
    "    dp[1] = arr[1]\n",
    "    for i in range(2, len(arr)):\n",
    "        dp[i] = arr[i] + dp[i-2]\n",
    "    return max(dp[-1], dp[-2])"
   ]
  },
  {
   "cell_type": "code",
   "execution_count": 138,
   "metadata": {},
   "outputs": [
    {
     "data": {
      "text/plain": [
       "12"
      ]
     },
     "execution_count": 138,
     "metadata": {},
     "output_type": "execute_result"
    }
   ],
   "source": []
  },
  {
   "cell_type": "code",
   "execution_count": null,
   "metadata": {},
   "outputs": [],
   "source": []
  }
 ],
 "metadata": {
  "kernelspec": {
   "display_name": "Python 3",
   "language": "python",
   "name": "python3"
  },
  "language_info": {
   "codemirror_mode": {
    "name": "ipython",
    "version": 3
   },
   "file_extension": ".py",
   "mimetype": "text/x-python",
   "name": "python",
   "nbconvert_exporter": "python",
   "pygments_lexer": "ipython3",
   "version": "3.7.7"
  }
 },
 "nbformat": 4,
 "nbformat_minor": 4
}
